{
 "cells": [
  {
   "cell_type": "markdown",
   "metadata": {},
   "source": [
    "# Instruction\n",
    "If the bill was $150.00, split between 5 people, with 12% tip.\n",
    "\n",
    "Each person should pay (150.00 / 5) * 1.12 = 33.6\n",
    "\n",
    "Format the result to 2 decimal places = 33.60\n",
    "\n",
    "Thus everyone's share of the total bill is $30.00 plus a $3.60 tip.\n",
    "\n",
    "Tip: There are 2 ways to round a number. You might have to do some Googling to solve this.💪\n",
    "\n",
    "## Example Input \n",
    "<code>Welcome to the tip calculator!\n",
    "What was the total bill? $124.56\n",
    "How much tip would you like to give? 10, 12, or 15? 12\n",
    "How many people to split the bill? 7</code>\n",
    "\n",
    "## Example Output\n",
    "<code>Each person should pay: $19.93</code>\n"
   ]
  },
  {
   "cell_type": "code",
   "execution_count": 12,
   "metadata": {},
   "outputs": [
    {
     "name": "stdout",
     "output_type": "stream",
     "text": [
      "Welcome to the tip calculator!\n",
      "What was the total bill? $150\n",
      "How much tip would you like to give? 10, 12, or 15?12\n",
      "How many people to split the bill?5\n",
      "Each person should pay $33.6\n",
      "Each person should pay $33.60\n"
     ]
    }
   ],
   "source": [
    "print(\"Welcome to the tip calculator!\")\n",
    "total = float(input(\"What was the total bill? $\"))\n",
    "tip = int(input(\"How much tip would you like to give? 10, 12, or 15?\"))\n",
    "people = int(input(\"How many people to split the bill?\"))\n",
    "\n",
    "price_per_person = (total+(total*(tip/100)))/people\n",
    "\n",
    "final_amt = round(price_per_person, 2)\n",
    "\n",
    "\n",
    "print(f\"Each person should pay ${final_amt}\")\n",
    "\n",
    "# or \n",
    "\n",
    "final_amt = \"{:.2f}\".format(price_per_person)\n",
    "print(f\"Each person should pay ${final_amt}\")"
   ]
  }
 ],
 "metadata": {
  "kernelspec": {
   "display_name": "Python 3",
   "language": "python",
   "name": "python3"
  },
  "language_info": {
   "codemirror_mode": {
    "name": "ipython",
    "version": 3
   },
   "file_extension": ".py",
   "mimetype": "text/x-python",
   "name": "python",
   "nbconvert_exporter": "python",
   "pygments_lexer": "ipython3",
   "version": "3.8.5"
  }
 },
 "nbformat": 4,
 "nbformat_minor": 4
}

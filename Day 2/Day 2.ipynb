{
 "cells": [
  {
   "cell_type": "markdown",
   "metadata": {},
   "source": [
    "# Day 2 Note\n",
    "\n",
    "### Addition\n",
    "1 + 2\n",
    "\n",
    "### Subtraction\n",
    "10 - 9\n",
    "\n",
    "### Multiplication\n",
    "1 * 2\n",
    "\n",
    "## Division\n",
    "2 / 1\n",
    "\n",
    "## Exponents\n",
    "2 ** 3\n",
    "\n",
    "## Modulo\n",
    "3 % 2\n",
    "\n",
    "## PEMDAS\n",
    "- () Parentheses \n",
    "- ** Exponents \n",
    "- '*  Multiplication\n",
    "- /  Division\n",
    "- '+  Addition\n",
    "- '- Subtraction\n",
    "\n",
    "## Other Func\n",
    "\n",
    "### Round\n",
    "round(number, precision) -> round(2.9, 2)\n",
    "\n",
    "### Floor division\n",
    "(8 // 3) -> get 2 straightaway, and result in int\n",
    "\n",
    "## F String\n",
    "before:\n",
    "- print(\"score \" + str(score)) -> have to convert first\n",
    "\n",
    "workaround:\n",
    "- f\"score {score}\" -> print(f\"score {score}\")"
   ]
  },
  {
   "cell_type": "markdown",
   "metadata": {},
   "source": [
    "# Exercise 1 - Data Types\n",
    "## Instructions\n",
    "Write a program that adds the digits in a 2 digit number. e.g. if the input was 35, then the output should be 3 + 5 = 8\n",
    "\n",
    "Warning. Do not change the code on lines 1-3. Your program should work for different inputs. e.g. any two-digit number.\n",
    "\n",
    "## Example Input\n",
    "<code>39</code>\n",
    "\n",
    "## Example Output\n",
    "<code>3 + 9 = 12\n",
    "12</code>\n"
   ]
  },
  {
   "cell_type": "code",
   "execution_count": 4,
   "metadata": {},
   "outputs": [
    {
     "name": "stdout",
     "output_type": "stream",
     "text": [
      "Type a two digit number: 39\n",
      "3 + 9 = 12\n",
      "12\n"
     ]
    }
   ],
   "source": [
    "# 🚨 Don't change the code below 👇\n",
    "two_digit_number = input(\"Type a two digit number: \")\n",
    "# 🚨 Don't change the code above 👆\n",
    "\n",
    "####################################\n",
    "#Write your code below this line 👇\n",
    "\n",
    "digit_one = int(two_digit_number[0])\n",
    "digit_two = int(two_digit_number[1])\n",
    "\n",
    "print(str(digit_one) + \" + \" + str(digit_two) + \" = \" + str(digit_one+digit_two))\n",
    "print(digit_one+digit_two)"
   ]
  },
  {
   "cell_type": "markdown",
   "metadata": {},
   "source": [
    "# Exercise 2 - BMI C\n",
    "## Instructions\n",
    "Write a program that calculates the Body Mass Index (BMI) from a user's weight and height.\n",
    "\n",
    "The BMI is a measure of some's weight taking into account their height. e.g. If a tall person and a short person both weigh the same amount, the short person is usually more overweight.\n",
    "\n",
    "The BMI is calculated by dividing a person's weight (in kg) by the square of their height (in m):\n",
    "\n",
    "\\begin{equation*}\n",
    "\\mathbf{BMI} = \\frac{weight(kg)}{height^2(m^2)}\n",
    "\\end{equation*}\n",
    "\n",
    "<b>warning</b> you should convert the result to a whole number.\n",
    "\n",
    "## Example Input\n",
    "<code>weight = 80\n",
    "height = 1.75</code>\n",
    "\n",
    "## Example Output\n",
    "<code>80 ÷ (1.75 x 1.75) = 26.122448979591837\n",
    "26</code>\n",
    "\n"
   ]
  },
  {
   "cell_type": "code",
   "execution_count": 23,
   "metadata": {
    "scrolled": true
   },
   "outputs": [
    {
     "name": "stdout",
     "output_type": "stream",
     "text": [
      "enter your height in m: 1.8\n",
      "enter your weight in kg: 65\n",
      "20\n"
     ]
    }
   ],
   "source": [
    "# 🚨 Don't change the code below 👇\n",
    "height = input(\"enter your height in m: \")\n",
    "weight = input(\"enter your weight in kg: \")\n",
    "# 🚨 Don't change the code above 👆\n",
    "\n",
    "#Write your code below this line 👇\n",
    "bmi = float(weight)/(float(height)**2)\n",
    "print(int(bmi))"
   ]
  },
  {
   "cell_type": "markdown",
   "metadata": {},
   "source": [
    "# Exercise 3 - Life in Weeks\n",
    "## Instructions\n",
    "I was reading this article by Tim Urban - Your Life in Weeks and realised just how little time we actually have.\n",
    "<a>https://waitbutwhy.com/2014/05/life-weeks.html</a>\n",
    "\n",
    "Create a program using maths and f-Strings that tells us how many days, weeks, months we have left if we live until 90 years old.\n",
    "\n",
    "It will take your current age as the input and output a message with our time left in this format:\n",
    "        You have x days, y weeks, and z months left.\n",
    "\n",
    "Where x, y and z are replaced with the actual calculated numbers.\n",
    "\n",
    "<b>Warning</b> your output should match the Example Output format exactly, even the positions of the commas and full stops.\n",
    "\n",
    "## Example Input\n",
    "<code>56</code>\n",
    "## Example Output\n",
    "<code>You have 12410 days, 1768 weeks, and 408 months left.</code>\n"
   ]
  },
  {
   "cell_type": "code",
   "execution_count": 26,
   "metadata": {},
   "outputs": [
    {
     "name": "stdout",
     "output_type": "stream",
     "text": [
      "What is your current age?56\n",
      "You have 12410 days, 1768 weeks, and 408 months left.\n"
     ]
    }
   ],
   "source": [
    "# 🚨 Don't change the code below 👇\n",
    "age = input(\"What is your current age?\")\n",
    "# 🚨 Don't change the code above 👆\n",
    "\n",
    "#Write your code below this line 👇\n",
    "\n",
    "diff = 90-int(age)\n",
    "\n",
    "print(f\"You have {diff*365} days, {diff*52} weeks, and {diff*12} months left.\")"
   ]
  },
  {
   "cell_type": "code",
   "execution_count": null,
   "metadata": {},
   "outputs": [],
   "source": []
  }
 ],
 "metadata": {
  "kernelspec": {
   "display_name": "Python 3",
   "language": "python",
   "name": "python3"
  },
  "language_info": {
   "codemirror_mode": {
    "name": "ipython",
    "version": 3
   },
   "file_extension": ".py",
   "mimetype": "text/x-python",
   "name": "python",
   "nbconvert_exporter": "python",
   "pygments_lexer": "ipython3",
   "version": "3.8.5"
  }
 },
 "nbformat": 4,
 "nbformat_minor": 4
}

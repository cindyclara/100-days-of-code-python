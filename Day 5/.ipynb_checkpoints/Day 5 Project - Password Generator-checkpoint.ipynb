{
 "cells": [
  {
   "cell_type": "code",
   "execution_count": 13,
   "metadata": {
    "scrolled": true
   },
   "outputs": [
    {
     "name": "stdout",
     "output_type": "stream",
     "text": [
      "Welcome to the PyPassword Generator!\n",
      "How many letters would you like in your password?\n",
      "2\n",
      "How many symbols would you like?\n",
      "2\n",
      "How many numbers would you like?\n",
      "2\n",
      "aa18()\n",
      "pass_hard 34#97r\n"
     ]
    }
   ],
   "source": [
    "#Password Generator Project\n",
    "import random\n",
    "letters = ['a', 'b', 'c', 'd', 'e', 'f', 'g', 'h', 'i', 'j', 'k', 'l', 'm', 'n', 'o', 'p', 'q', 'r', 's', 't', 'u', 'v', 'w', 'x', 'y', 'z', 'A', 'B', 'C', 'D', 'E', 'F', 'G', 'H', 'I', 'J', 'K', 'L', 'M', 'N', 'O', 'P', 'Q', 'R', 'S', 'T', 'U', 'V', 'W', 'X', 'Y', 'Z']\n",
    "numbers = ['0', '1', '2', '3', '4', '5', '6', '7', '8', '9']\n",
    "symbols = ['!', '#', '$', '%', '&', '(', ')', '*', '+']\n",
    "\n",
    "print(\"Welcome to the PyPassword Generator!\")\n",
    "nr_letters= int(input(\"How many letters would you like in your password?\\n\")) \n",
    "nr_symbols = int(input(f\"How many symbols would you like?\\n\"))\n",
    "nr_numbers = int(input(f\"How many numbers would you like?\\n\"))\n",
    "\n",
    "#Eazy Level - Order not randomised:\n",
    "#e.g. 4 letter, 2 symbol, 2 number = JduE&!91\n",
    "password = ''\n",
    "\n",
    "for i in range(0, nr_letters):\n",
    "    randomizer = random.randint(0, 25)\n",
    "    password+=letters[randomizer]\n",
    "\n",
    "for i in range(0, nr_symbols):\n",
    "    randomizer = random.randint(0, 9)\n",
    "    password+=numbers[randomizer]\n",
    "\n",
    "for i in range(0, nr_numbers):\n",
    "    randomizer = random.randint(0, 8)\n",
    "    password+=symbols[randomizer]\n",
    "    \n",
    "print(password)\n",
    "\n",
    "#Hard Level - Order of characters randomised:\n",
    "#e.g. 4 letter, 2 symbol, 2 number = g^2jk8&P\n",
    "tamp = nr_letters + nr_numbers + nr_symbols\n",
    "\n",
    "pass_hard = ''\n",
    "\n",
    "for i in range(0, tamp):\n",
    "    random_hard = random.randint(1, 3)\n",
    "    if(random_hard == 1):\n",
    "        randomizer = random.randint(0, 25)\n",
    "        pass_hard+=letters[randomizer]\n",
    "    elif(random_hard == 2):\n",
    "        randomizer = random.randint(0, 9)\n",
    "        pass_hard+=numbers[randomizer]\n",
    "    else:\n",
    "        randomizer = random.randint(0, 8)\n",
    "        pass_hard+=symbols[randomizer]\n",
    "print(f\"pass_hard {pass_hard}\")\n"
   ]
  },
  {
   "cell_type": "code",
   "execution_count": 14,
   "metadata": {},
   "outputs": [
    {
     "name": "stdout",
     "output_type": "stream",
     "text": [
      "Welcome to the PyPassword Generator!\n",
      "How many letters would you like in your password?\n",
      "2\n",
      "How many symbols would you like?\n",
      "2\n",
      "How many numbers would you like?\n",
      "2\n",
      "Your password is: h&g8$1\n"
     ]
    }
   ],
   "source": [
    "# Other solution\n",
    "\n",
    "import random\n",
    "letters = ['a', 'b', 'c', 'd', 'e', 'f', 'g', 'h', 'i', 'j', 'k', 'l', 'm', 'n', 'o', 'p', 'q', 'r', 's', 't', 'u', 'v', 'w', 'x', 'y', 'z', 'A', 'B', 'C', 'D', 'E', 'F', 'G', 'H', 'I', 'J', 'K', 'L', 'M', 'N', 'O', 'P', 'Q', 'R', 'S', 'T', 'U', 'V', 'W', 'X', 'Y', 'Z']\n",
    "numbers = ['0', '1', '2', '3', '4', '5', '6', '7', '8', '9']\n",
    "symbols = ['!', '#', '$', '%', '&', '(', ')', '*', '+']\n",
    "\n",
    "print(\"Welcome to the PyPassword Generator!\")\n",
    "nr_letters= int(input(\"How many letters would you like in your password?\\n\")) \n",
    "nr_symbols = int(input(f\"How many symbols would you like?\\n\"))\n",
    "nr_numbers = int(input(f\"How many numbers would you like?\\n\"))\n",
    "\n",
    "#Eazy Level - Order not randomised:\n",
    "#e.g. 4 letter, 2 symbol, 2 number = JduE&!91\n",
    "password = []\n",
    "\n",
    "for i in range(0, nr_letters):\n",
    "    randomizer = random.randint(0, 25)\n",
    "    password.append(letters[randomizer])\n",
    "\n",
    "for i in range(0, nr_symbols):\n",
    "    randomizer = random.randint(0, 9)\n",
    "    password.append(numbers[randomizer])\n",
    "\n",
    "for i in range(0, nr_numbers):\n",
    "    randomizer = random.randint(0, 8)\n",
    "    password.append(symbols[randomizer])\n",
    "    \n",
    "\n",
    "random.shuffle(password)\n",
    "\n",
    "pass_result = \"\"\n",
    "\n",
    "for char in password:\n",
    "    pass_result+=char\n",
    "    \n",
    "print(f\"Your password is: {pass_result}\")"
   ]
  }
 ],
 "metadata": {
  "kernelspec": {
   "display_name": "Python 3",
   "language": "python",
   "name": "python3"
  },
  "language_info": {
   "codemirror_mode": {
    "name": "ipython",
    "version": 3
   },
   "file_extension": ".py",
   "mimetype": "text/x-python",
   "name": "python",
   "nbconvert_exporter": "python",
   "pygments_lexer": "ipython3",
   "version": "3.8.5"
  }
 },
 "nbformat": 4,
 "nbformat_minor": 4
}

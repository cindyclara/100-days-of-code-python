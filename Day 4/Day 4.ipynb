{
 "cells": [
  {
   "cell_type": "code",
   "execution_count": 6,
   "metadata": {},
   "outputs": [
    {
     "name": "stdout",
     "output_type": "stream",
     "text": [
      "0\n",
      "0.295601040463468\n"
     ]
    }
   ],
   "source": [
    "import random\n",
    "\n",
    "random_integer = random.randint(0, 1)\n",
    "print(random_integer)\n",
    "\n",
    "random_float = random.random()\n",
    "print(random_float)"
   ]
  },
  {
   "cell_type": "code",
   "execution_count": 17,
   "metadata": {
    "scrolled": true
   },
   "outputs": [
    {
     "name": "stdout",
     "output_type": "stream",
     "text": [
      "States of america: ['Delaware', 'Pennsylvania', 'New Jersey', 'Georgia', 'Connecticut', 'Massachusetts', 'Maryland', 'South Carolina', 'New Hampshire', 'Virginia', 'New York', 'North Carolina', 'Rhode Island', 'Vermont', 'Kentucky', 'Tennessee', 'Ohio', 'Louisiana', 'Indiana', 'Mississippi', 'Illinois', 'Alabama', 'Maine', 'Missouri', 'Arkansas', 'Michigan', 'Florida', 'Texas', 'Iowa', 'Wisconsin', 'California', 'Minnesota', 'Oregon', 'Kansas', 'West Virginia', 'Nevada', 'Nebraska', 'Colorado', 'North Dakota', 'South Dakota', 'Montana', 'Washington', 'Idaho', 'Wyoming', 'Utah', 'Oklahoma', 'New Mexico', 'Arizona', 'Alaska', 'Hawaii']\n",
      "\n",
      "States append('TEST')['Delaware', 'Pennsylvania', 'New Jersey', 'Georgia', 'Connecticut', 'Massachusetts', 'Maryland', 'South Carolina', 'New Hampshire', 'Virginia', 'New York', 'North Carolina', 'Rhode Island', 'Vermont', 'Kentucky', 'Tennessee', 'Ohio', 'Louisiana', 'Indiana', 'Mississippi', 'Illinois', 'Alabama', 'Maine', 'Missouri', 'Arkansas', 'Michigan', 'Florida', 'Texas', 'Iowa', 'Wisconsin', 'California', 'Minnesota', 'Oregon', 'Kansas', 'West Virginia', 'Nevada', 'Nebraska', 'Colorado', 'North Dakota', 'South Dakota', 'Montana', 'Washington', 'Idaho', 'Wyoming', 'Utah', 'Oklahoma', 'New Mexico', 'Arizona', 'Alaska', 'Hawaii', 'Test']\n",
      "\n",
      "State extend([123]) ['Delaware', 'Pennsylvania', 'New Jersey', 'Georgia', 'Connecticut', 'Massachusetts', 'Maryland', 'South Carolina', 'New Hampshire', 'Virginia', 'New York', 'North Carolina', 'Rhode Island', 'Vermont', 'Kentucky', 'Tennessee', 'Ohio', 'Louisiana', 'Indiana', 'Mississippi', 'Illinois', 'Alabama', 'Maine', 'Missouri', 'Arkansas', 'Michigan', 'Florida', 'Texas', 'Iowa', 'Wisconsin', 'California', 'Minnesota', 'Oregon', 'Kansas', 'West Virginia', 'Nevada', 'Nebraska', 'Colorado', 'North Dakota', 'South Dakota', 'Montana', 'Washington', 'Idaho', 'Wyoming', 'Utah', 'Oklahoma', 'New Mexico', 'Arizona', 'Alaska', 'Hawaii', 'Test', '1', '2', '3']\n",
      "\n",
      "State extend(['test123', 'try']) ['Delaware', 'Pennsylvania', 'New Jersey', 'Georgia', 'Connecticut', 'Massachusetts', 'Maryland', 'South Carolina', 'New Hampshire', 'Virginia', 'New York', 'North Carolina', 'Rhode Island', 'Vermont', 'Kentucky', 'Tennessee', 'Ohio', 'Louisiana', 'Indiana', 'Mississippi', 'Illinois', 'Alabama', 'Maine', 'Missouri', 'Arkansas', 'Michigan', 'Florida', 'Texas', 'Iowa', 'Wisconsin', 'California', 'Minnesota', 'Oregon', 'Kansas', 'West Virginia', 'Nevada', 'Nebraska', 'Colorado', 'North Dakota', 'South Dakota', 'Montana', 'Washington', 'Idaho', 'Wyoming', 'Utah', 'Oklahoma', 'New Mexico', 'Arizona', 'Alaska', 'Hawaii', 'Test', '1', '2', '3', 'test123', 'try']\n",
      "\n"
     ]
    }
   ],
   "source": [
    "states_of_america = [\"Delaware\", \"Pennsylvania\", \"New Jersey\", \"Georgia\", \"Connecticut\", \"Massachusetts\", \"Maryland\", \"South Carolina\", \"New Hampshire\", \"Virginia\", \"New York\", \"North Carolina\", \"Rhode Island\", \"Vermont\", \"Kentucky\", \"Tennessee\", \"Ohio\", \"Louisiana\", \"Indiana\", \"Mississippi\", \"Illinois\", \"Alabama\", \"Maine\", \"Missouri\", \"Arkansas\", \"Michigan\", \"Florida\", \"Texas\", \"Iowa\", \"Wisconsin\", \"California\", \"Minnesota\", \"Oregon\", \"Kansas\", \"West Virginia\", \"Nevada\", \"Nebraska\", \"Colorado\", \"North Dakota\", \"South Dakota\", \"Montana\", \"Washington\", \"Idaho\", \"Wyoming\", \"Utah\", \"Oklahoma\", \"New Mexico\", \"Arizona\", \"Alaska\", \"Hawaii\"]\n",
    "\n",
    "print(f\"States of america: {states_of_america}\\n\")\n",
    "states_of_america.append(\"Test\")\n",
    "print(f\"States append('TEST'){states_of_america}\\n\")\n",
    "states_of_america.extend('123')\n",
    "print(f\"State extend([123]) {states_of_america}\\n\")\n",
    "states_of_america.extend([\"test123\", \"try\"])\n",
    "print(f\"State extend(['test123', 'try']) {states_of_america}\\n\")\n",
    "dirty_dozen = [\"Strawberries\", \"Spinach\", \"Kale\", \"Nectarines\", \"Apples\", \"Grapes\", \"Peaches\", \"Cherries\", \"Pears\", \"Tomatoes\", \"Celery\", \"Potatoes\"]\n",
    "\n"
   ]
  },
  {
   "cell_type": "code",
   "execution_count": 22,
   "metadata": {},
   "outputs": [
    {
     "name": "stdout",
     "output_type": "stream",
     "text": [
      "dirty_dosens [['Strawberries', 'Nectarines', 'Apples', 'Grapes', 'Peaches', 'Cherries', 'Pears'], ['Spinach', 'Kale', 'Tomatoes', 'Celery', 'Potatoes']]\n",
      "\n",
      "dirty_dosens[0] ['Strawberries', 'Nectarines', 'Apples', 'Grapes', 'Peaches', 'Cherries', 'Pears']\n",
      "\n",
      "dirty_dosens[1] ['Spinach', 'Kale', 'Tomatoes', 'Celery', 'Potatoes']\n",
      "\n",
      "dirty_dosens[1][2] Tomatoes\n",
      "\n",
      "dirty_dosens[1][3] Celery\n",
      "\n"
     ]
    }
   ],
   "source": [
    "fruits = [\"Strawberries\", \"Nectarines\", \"Apples\", \"Grapes\", \"Peaches\", \"Cherries\", \"Pears\"]\n",
    "vegetables = [\"Spinach\", \"Kale\", \"Tomatoes\", \"Celery\", \"Potatoes\"]\n",
    "\n",
    "dirty_dosens = [fruits, vegetables]\n",
    "\n",
    "print(f\"dirty_dosens {dirty_dosens}\\n\")\n",
    "\n",
    "print(f\"dirty_dosens[0] {dirty_dosens[0]}\\n\")\n",
    "\n",
    "print(f\"dirty_dosens[1] {dirty_dosens[1]}\\n\")\n",
    "\n",
    "print(f\"dirty_dosens[1][2] {dirty_dosens[1][2]}\\n\")\n",
    "\n",
    "print(f\"dirty_dosens[1][3] {dirty_dosens[1][3]}\\n\")"
   ]
  },
  {
   "cell_type": "markdown",
   "metadata": {},
   "source": [
    "# Exercise 1 - Heads or Tails\n",
    "\n",
    "## Instructions\n",
    "\n",
    "You are going to write a virtual coin toss program. It will randomly tell the user \"Heads\" or \"Tails\".\n",
    "\n",
    "**Important**, the first letter should be capitalised and spelt exactly like in the example e.g. Heads, not heads.\n",
    "\n",
    "When you run the code, just use a random number as the seed. e.g. 67346 It doesn't matter what you chose, it's only for our testing code to check your work.\n",
    "\n",
    "There are many ways of doing this. But to practice what we learnt in the last lesson, you should generate a random number, either 0 or 1. Then use that number to print out Heads or Tails.\n",
    "\n",
    "e.g. 1 means Heads 0 means Tails\n",
    "\n",
    "## Example Output\n",
    "    Heads\n",
    "    \n",
    "or \n",
    "\n",
    "    Tails"
   ]
  },
  {
   "cell_type": "code",
   "execution_count": 8,
   "metadata": {},
   "outputs": [
    {
     "name": "stdout",
     "output_type": "stream",
     "text": [
      "Create a seed number: 5\n",
      "Heads\n"
     ]
    }
   ],
   "source": [
    "#Remember to use the random module\n",
    "#Hint: Remember to import the random module here at the top of the file. 🎲\n",
    "import random\n",
    "\n",
    "# 🚨 Don't change the code below 👇\n",
    "test_seed = int(input(\"Create a seed number: \"))\n",
    "random.seed(test_seed)\n",
    " # 🚨 Don't change the code above 👆 It's only for testing your code.\n",
    "\t \n",
    "#Write the rest of your code below this line 👇\n",
    "random_integer = random.randint(0, 1)\n",
    "\n",
    "if random_integer == 0:\n",
    "    print(\"Tails\")\n",
    "else:\n",
    "    print(\"Heads\")"
   ]
  },
  {
   "cell_type": "markdown",
   "metadata": {},
   "source": [
    "# Exercise 2 - Banker Roulette\n",
    "\n",
    "## Instructions\n",
    "You are going to write a program that will select a random name from a list of names. The person selected will have to pay for everybody's food bill.\n",
    "\n",
    "**Important**: You are not allowed to use the choice() function.\n",
    "\n",
    "**Line 8** splits the string names_string into individual names and puts them inside a List called names. For this to work, you must enter all the names as names followed by comma then space. e.g. name, name, name\n",
    "\n",
    "When you run the code, just use a random number as the seed. e.g. 67346 It doesn't matter what you chose, it's only for our testing code to check your work.\n",
    "\n",
    "## Example Input\n",
    "    Angela, Ben, Jenny, Michael, Chloe\n",
    "\n",
    "Note: notice that there is a space between the comma and the next name.\n",
    "\n",
    "## Example Output\n",
    "    Michael is going to buy the meal today!"
   ]
  },
  {
   "cell_type": "code",
   "execution_count": 18,
   "metadata": {},
   "outputs": [
    {
     "name": "stdout",
     "output_type": "stream",
     "text": [
      "Create a seed number: 5\n",
      "Give me everybody's names, separated by a comma. Angela, Ben, Jenny, Michael, Chloe\n",
      "Chloe is going to buy the meal today!\n"
     ]
    }
   ],
   "source": [
    "import random\n",
    "\n",
    "# 🚨 Don't change the code below 👇\n",
    "test_seed = int(input(\"Create a seed number: \"))\n",
    "random.seed(test_seed)\n",
    "\n",
    "# Split string method\n",
    "names_string = input(\"Give me everybody's names, separated by a comma. \")\n",
    "names = names_string.split(\", \")\n",
    "# 🚨 Don't change the code above 👆\n",
    "\n",
    "#Write your code below this line 👇\n",
    "random_int = random.randint(0, len(names)-1)\n",
    "\n",
    "print(f\"{names[random_int]} is going to buy the meal today!\")"
   ]
  },
  {
   "cell_type": "markdown",
   "metadata": {},
   "source": [
    "# Exercise 3 - Treasure Map\n",
    "\n",
    "![](https://cdn.fs.teachablecdn.com/wiFJAkZZSG2RpGsxYgDO)\n",
    "\n",
    "\n",
    "## Instructions\n",
    "You are going to write a program that will mark a spot with an X.\n",
    "\n",
    "In the starting code, you will find a variable called <code>map</code>.\n",
    "\n",
    "This <code>map</code> contains a nested list. When <code>map</code> is printed this is what the nested list looks like:\n",
    "\n",
    "['⬜️', '⬜️', '⬜️'],['⬜️', '⬜️', '⬜️'],['⬜️', '⬜️', '⬜️']\n",
    "\n",
    "In the starting code, we have used new lines <code>(\\n)</code> to format the three rows into a square, like this:\n",
    "\n",
    "['⬜️', '⬜️', '⬜️']\n",
    "\n",
    "['⬜️', '⬜️', '⬜️']\n",
    "\n",
    "['⬜️', '⬜️', '⬜️']\n",
    "\n",
    "This is to try and simulate the coordinates on a real map.\n",
    "\n",
    "\n",
    "![](https://res.cloudinary.com/dk-find-out/image/upload/q_80,w_1440,f_auto/Co-ordinates_oggjzg.jpg)\n",
    "Your job is to write a program that allows you to mark a square on the map using a two-digit system. The first digit is the vertical column number and the second digit is the horizontal row number. e.g.:\n",
    "![](https://cdn.fs.teachablecdn.com/2vnboIYTFFruvl9FJ2w5)\n",
    "\n",
    "First, your program must take the user input and convert it to a usable format.\n",
    "\n",
    "Next, you need to use it to update your nested list with an \"x\".\n",
    "\n",
    "## Example Input 1\n",
    "column 2, row 3 would be entered as:\n",
    "    23\n",
    "\n",
    "## Example Output 1\n",
    "    ['⬜️', '⬜️', '⬜️']\n",
    "    ['⬜️', '⬜️', '⬜️']\n",
    "    ['⬜️', 'X', '⬜️']\n",
    "\n",
    "## Example Input 2\n",
    "column 3, row 1 would be entered as:\n",
    "    31\n",
    "    \n",
    "## Example Output 2\n",
    "    ['⬜️', '⬜️', 'X']\n",
    "    ['⬜️', '⬜️', '⬜️']\n",
    "    ['⬜️', '⬜️', '⬜️']  "
   ]
  },
  {
   "cell_type": "code",
   "execution_count": 27,
   "metadata": {},
   "outputs": [
    {
     "name": "stdout",
     "output_type": "stream",
     "text": [
      "['⬜️', '⬜️', '⬜️']\n",
      "['⬜️', '⬜️', '⬜️']\n",
      "['⬜️', '⬜️', '⬜️']\n",
      "Where do you want to put the treasure? 31\n",
      "['⬜️', '⬜️', 'X']\n",
      "['⬜️', '⬜️', '⬜️']\n",
      "['⬜️', '⬜️', '⬜️']\n"
     ]
    }
   ],
   "source": [
    "# 🚨 Don't change the code below 👇\n",
    "row1 = [\"⬜️\",\"⬜️\",\"⬜️\"]\n",
    "row2 = [\"⬜️\",\"⬜️\",\"⬜️\"]\n",
    "row3 = [\"⬜️\",\"⬜️\",\"⬜️\"]\n",
    "map = [row1, row2, row3]\n",
    "print(f\"{row1}\\n{row2}\\n{row3}\")\n",
    "position = input(\"Where do you want to put the treasure? \")\n",
    "# 🚨 Don't change the code above 👆\n",
    "\n",
    "#Write your code below this row 👇\n",
    "pos_1 = int(position[0])\n",
    "pos_2 = int(position[1])\n",
    "\n",
    "map[pos_2-1][pos_1-1] = 'X'\n",
    "\n",
    "#Write your code above this row 👆\n",
    "\n",
    "# 🚨 Don't change the code below 👇\n",
    "print(f\"{row1}\\n{row2}\\n{row3}\")"
   ]
  }
 ],
 "metadata": {
  "kernelspec": {
   "display_name": "Python 3",
   "language": "python",
   "name": "python3"
  },
  "language_info": {
   "codemirror_mode": {
    "name": "ipython",
    "version": 3
   },
   "file_extension": ".py",
   "mimetype": "text/x-python",
   "name": "python",
   "nbconvert_exporter": "python",
   "pygments_lexer": "ipython3",
   "version": "3.8.5"
  }
 },
 "nbformat": 4,
 "nbformat_minor": 4
}

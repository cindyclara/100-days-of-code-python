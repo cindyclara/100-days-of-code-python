{
 "cells": [
  {
   "cell_type": "markdown",
   "metadata": {},
   "source": [
    "# Hangman"
   ]
  },
  {
   "cell_type": "code",
   "execution_count": null,
   "metadata": {},
   "outputs": [
    {
     "name": "stdout",
     "output_type": "stream",
     "text": [
      "Pssst, the solution is baboon.\n",
      "Guess a letter: a\n",
      "Current position: 0\n",
      " Current letter: b\n",
      " Guessed letter: a\n",
      "Current position: 1\n",
      " Current letter: a\n",
      " Guessed letter: a\n",
      "Current position: 2\n",
      " Current letter: b\n",
      " Guessed letter: a\n",
      "Current position: 3\n",
      " Current letter: o\n",
      " Guessed letter: a\n",
      "Current position: 4\n",
      " Current letter: o\n",
      " Guessed letter: a\n",
      "Current position: 5\n",
      " Current letter: n\n",
      " Guessed letter: a\n",
      "_ a _ _ _ _\n",
      "\n",
      "  +---+\n",
      "  |   |\n",
      "      |\n",
      "      |\n",
      "      |\n",
      "      |\n",
      "=========\n",
      "\n",
      "Guess a letter: a\n",
      "Current position: 0\n",
      " Current letter: b\n",
      " Guessed letter: a\n",
      "Current position: 1\n",
      " Current letter: a\n",
      " Guessed letter: a\n",
      "Current position: 2\n",
      " Current letter: b\n",
      " Guessed letter: a\n",
      "Current position: 3\n",
      " Current letter: o\n",
      " Guessed letter: a\n",
      "Current position: 4\n",
      " Current letter: o\n",
      " Guessed letter: a\n",
      "Current position: 5\n",
      " Current letter: n\n",
      " Guessed letter: a\n",
      "_ a _ _ _ _\n",
      "\n",
      "  +---+\n",
      "  |   |\n",
      "      |\n",
      "      |\n",
      "      |\n",
      "      |\n",
      "=========\n",
      "\n"
     ]
    }
   ],
   "source": [
    "#Step 5\n",
    "\n",
    "import random\n",
    "\n",
    "#TODO-1: - Update the word list to use the 'word_list' from hangman_words.py\n",
    "#Delete this line: word_list = [\"ardvark\", \"baboon\", \"camel\"]\n",
    "chosen_word = random.choice(word_list)\n",
    "word_length = len(chosen_word)\n",
    "\n",
    "end_of_game = False\n",
    "lives = 6\n",
    "\n",
    "#TODO-3: - Import the logo from hangman_art.py and print it at the start of the game.\n",
    "\n",
    "#Testing code\n",
    "print(f'Pssst, the solution is {chosen_word}.')\n",
    "\n",
    "#Create blanks\n",
    "display = []\n",
    "for _ in range(word_length):\n",
    "    display += \"_\"\n",
    "\n",
    "while not end_of_game:\n",
    "    guess = input(\"Guess a letter: \").lower()\n",
    "\n",
    "    #TODO-4: - If the user has entered a letter they've already guessed, print the letter and let them know.\n",
    "\n",
    "    #Check guessed letter\n",
    "    for position in range(word_length):\n",
    "        letter = chosen_word[position]\n",
    "        print(f\"Current position: {position}\\n Current letter: {letter}\\n Guessed letter: {guess}\")\n",
    "        if letter == guess:\n",
    "            display[position] = letter\n",
    "\n",
    "    #Check if user is wrong.\n",
    "    if guess not in chosen_word:\n",
    "        #TODO-5: - If the letter is not in the chosen_word, print out the letter and let them know it's not in the word.\n",
    "        lives -= 1\n",
    "        if lives == 0:\n",
    "            end_of_game = True\n",
    "            print(\"You lose.\")\n",
    "\n",
    "    #Join all the elements in the list and turn it into a String.\n",
    "    print(f\"{' '.join(display)}\")\n",
    "\n",
    "    #Check if user has got all letters.\n",
    "    if \"_\" not in display:\n",
    "        end_of_game = True\n",
    "        print(\"You win.\")\n",
    "\n",
    "    #TODO-2: - Import the stages from hangman_art.py and make this error go away.\n",
    "    print(stages[lives])"
   ]
  },
  {
   "cell_type": "code",
   "execution_count": 11,
   "metadata": {},
   "outputs": [
    {
     "name": "stdout",
     "output_type": "stream",
     "text": [
      "['camel']\n"
     ]
    }
   ],
   "source": [
    "import random\n",
    "word_list = [\"aardvark\", \"baboon\", \"camel\"]\n",
    "chosen_word = random.choice(word_list)\n",
    "\n",
    "tamp_choosen_word = chosen_word.split()\n",
    "print(tamp_choosen_word)"
   ]
  }
 ],
 "metadata": {
  "kernelspec": {
   "display_name": "Python 3",
   "language": "python",
   "name": "python3"
  },
  "language_info": {
   "codemirror_mode": {
    "name": "ipython",
    "version": 3
   },
   "file_extension": ".py",
   "mimetype": "text/x-python",
   "name": "python",
   "nbconvert_exporter": "python",
   "pygments_lexer": "ipython3",
   "version": "3.8.5"
  }
 },
 "nbformat": 4,
 "nbformat_minor": 4
}

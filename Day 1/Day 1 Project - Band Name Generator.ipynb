{
 "cells": [
  {
   "cell_type": "code",
   "execution_count": 2,
   "metadata": {},
   "outputs": [
    {
     "name": "stdout",
     "output_type": "stream",
     "text": [
      "Welcome to Band Name Generator!\n",
      "What city did you grow up in? \n",
      "Jogja\n",
      "What's your pet name? \n",
      "Chonky\n",
      "Your band name is Jogja Chonky\n"
     ]
    }
   ],
   "source": [
    "#1. Create a greeting for your program.\n",
    "print(\"Welcome to Band Name Generator!\")\n",
    "#2. Ask the user for the city that they grew up in.\n",
    "hometown = input(\"What city did you grow up in? \\n\")\n",
    "#3. Ask the user for the name of a pet.\n",
    "pet_name = input(\"What's your pet name? \\n\")\n",
    "#4. Combine the name of their city and pet and show them their band name.\n",
    "print(\"Your band name is \" + hometown + \" \" + pet_name)"
   ]
  },
  {
   "cell_type": "code",
   "execution_count": null,
   "metadata": {},
   "outputs": [],
   "source": []
  }
 ],
 "metadata": {
  "kernelspec": {
   "display_name": "Python 3",
   "language": "python",
   "name": "python3"
  },
  "language_info": {
   "codemirror_mode": {
    "name": "ipython",
    "version": 3
   },
   "file_extension": ".py",
   "mimetype": "text/x-python",
   "name": "python",
   "nbconvert_exporter": "python",
   "pygments_lexer": "ipython3",
   "version": "3.8.5"
  }
 },
 "nbformat": 4,
 "nbformat_minor": 4
}

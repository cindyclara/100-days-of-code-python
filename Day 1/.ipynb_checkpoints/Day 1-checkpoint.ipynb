{
 "cells": [
  {
   "cell_type": "markdown",
   "metadata": {},
   "source": [
    "# Exercise 1 - Printing \n",
    "## Instructions\n",
    "Write a program in main.py that prints the same notes from the previous lesson using what you have learnt about the Python print function.\n",
    "\n",
    "**Warning:** The output in your program should match the example output shown below exactly, character for character, even spaces and symbols should be identical, otherwise the tests won't pass.\n",
    "\n",
    "## Example Output\n",
    "After you have written your code, you should run your program and it should print the following:\n",
    "```Day 1 - Python Print Function\n",
    "The function is declared like this:\n",
    "print('what to print')```"
   ]
  },
  {
   "cell_type": "code",
   "execution_count": 2,
   "metadata": {
    "scrolled": true
   },
   "outputs": [
    {
     "name": "stdout",
     "output_type": "stream",
     "text": [
      "Day 1 - Python Print Function\n",
      "The function is declared like this:\n",
      "print('what to print')\n"
     ]
    }
   ],
   "source": [
    "#Write your code below this line 👇\n",
    "print(\"Day 1 - Python Print Function\")\n",
    "print(\"The function is declared like this:\")\n",
    "print(\"print('what to print')\")"
   ]
  },
  {
   "cell_type": "markdown",
   "metadata": {},
   "source": [
    "***"
   ]
  },
  {
   "cell_type": "markdown",
   "metadata": {},
   "source": [
    "# Exercise 2 - Debugging Practice"
   ]
  },
  {
   "cell_type": "markdown",
   "metadata": {},
   "source": [
    "## Instructions\n",
    "Look at the code in the code editor on the right. There are errors in all of the lines of code. Fix the code so that it runs without errors.\n",
    "\n",
    "Warning: The output in your program should match the example output shown below exactly, character for character, even spaces and symbols should be identical, otherwise the tests won't pass.\n",
    "\n",
    "## Example Output\n",
    "When you run your program, it should print the following:\n",
    "<code>Day 1 - String Manipulation\n",
    "String Concatenation is done with the \"+\" sign.\n",
    "e.g. print(\"Hello \" + \"world\")\n",
    "New lines can be created with a backslash and n.</code>\n",
    "\n",
    "Before\n",
    "\n",
    "<code>#Fix the code below 👇\n",
    "\n",
    "print(\"Day 1 - String Manipulation\")\n",
    "print(\"String Concatenation is done with the \"+\" sign.\")\n",
    "print(\"e.g. print(\"Hello \" + \"world\")')\n",
    "print((\"New lines can be created with a backslash and n.\")</code>"
   ]
  },
  {
   "cell_type": "code",
   "execution_count": 3,
   "metadata": {},
   "outputs": [
    {
     "name": "stdout",
     "output_type": "stream",
     "text": [
      "Day 1 - String Manipulation\n",
      "String Concatenation is done with the \"+\" sign.\n",
      "e.g. print(\"Hello \" + \"world\")\n",
      "New lines can be created with a backslash and n.\n"
     ]
    }
   ],
   "source": [
    "#Fix the code below 👇\n",
    "\n",
    "print(\"Day 1 - String Manipulation\")\n",
    "print('String Concatenation is done with the \"+\" sign.')\n",
    "print('e.g. print(\"Hello \" + \"world\")')\n",
    "print(\"New lines can be created with a backslash and n.\")\n",
    "\n"
   ]
  },
  {
   "cell_type": "markdown",
   "metadata": {},
   "source": [
    "***\n",
    "# Exercise 3 - Input Function\n",
    "\n",
    "## Instructions\n",
    "Write a program that prints the number of characters in a user's name. You might need to Google for a function that calculates the length of a string.\n",
    "\n",
    "**Warning.** Your program should work for different inputs. e.g. any name that you input.\n",
    "\n",
    "## Example Input\n",
    "\n",
    "<code>Angela</code>\n",
    "\n",
    "## Example Output\n",
    "<code>6</code>"
   ]
  },
  {
   "cell_type": "code",
   "execution_count": 4,
   "metadata": {},
   "outputs": [
    {
     "name": "stdout",
     "output_type": "stream",
     "text": [
      "What is your name?Angela\n",
      "6\n"
     ]
    }
   ],
   "source": [
    "#Write your code below this line 👇\n",
    "name = input('What is your name?')\n",
    "print(len(name))"
   ]
  },
  {
   "cell_type": "markdown",
   "metadata": {},
   "source": [
    "***\n",
    "# Exercise 4 - Variables\n",
    "## Instructions\n",
    "Write a program that switches the values stored in the variables a and b.\n",
    "\n",
    "**Warning.** Do not change the code on lines 1-4 and 12-18. Your program should work for different inputs. e.g. any value of a and b.\n",
    "\n",
    "## Example Input\n",
    "\n",
    "<code>a: 3\n",
    "b:5</code>\n",
    "\n",
    "## Example Output\n",
    "\n",
    "<code>a: 5\n",
    "b: 3</code>"
   ]
  },
  {
   "cell_type": "code",
   "execution_count": 5,
   "metadata": {},
   "outputs": [
    {
     "name": "stdout",
     "output_type": "stream",
     "text": [
      "a: 3\n",
      "b: 5\n",
      "a: 5\n",
      "b: 3\n"
     ]
    }
   ],
   "source": [
    "# 🚨 Don't change the code below 👇\n",
    "a = input(\"a: \")\n",
    "b = input(\"b: \")\n",
    "# 🚨 Don't change the code above 👆\n",
    "\n",
    "####################################\n",
    "#Write your code below this line 👇\n",
    "\n",
    "a, b = b, a\n",
    "\n",
    "\n",
    "#Write your code above this line 👆\n",
    "####################################\n",
    "\n",
    "# 🚨 Don't change the code below 👇\n",
    "print(\"a: \" + a)\n",
    "print(\"b: \" + b)\n"
   ]
  }
 ],
 "metadata": {
  "kernelspec": {
   "display_name": "Python 3",
   "language": "python",
   "name": "python3"
  },
  "language_info": {
   "codemirror_mode": {
    "name": "ipython",
    "version": 3
   },
   "file_extension": ".py",
   "mimetype": "text/x-python",
   "name": "python",
   "nbconvert_exporter": "python",
   "pygments_lexer": "ipython3",
   "version": "3.8.5"
  }
 },
 "nbformat": 4,
 "nbformat_minor": 4
}
